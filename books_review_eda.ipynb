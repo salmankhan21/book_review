{
 "cells": [
  {
   "cell_type": "code",
   "execution_count": 1,
   "metadata": {
    "execution": {
     "iopub.execute_input": "2021-02-06T20:40:35.996458Z",
     "iopub.status.busy": "2021-02-06T20:40:35.995520Z",
     "iopub.status.idle": "2021-02-06T20:40:37.158512Z",
     "shell.execute_reply": "2021-02-06T20:40:37.159691Z"
    },
    "papermill": {
     "duration": 1.187078,
     "end_time": "2021-02-06T20:40:37.160201",
     "exception": false,
     "start_time": "2021-02-06T20:40:35.973123",
     "status": "completed"
    },
    "tags": []
   },
   "outputs": [],
   "source": [
    "from sklearn.linear_model import LinearRegression\n",
    "from sklearn.metrics import r2_score\n",
    "from matplotlib import pyplot as plt\n",
    "\n",
    "import pandas as pd\n",
    "import numpy as np"
   ]
  },
  {
   "cell_type": "code",
   "execution_count": 2,
   "metadata": {
    "execution": {
     "iopub.execute_input": "2021-02-06T20:40:37.201674Z",
     "iopub.status.busy": "2021-02-06T20:40:37.201030Z",
     "iopub.status.idle": "2021-02-06T20:40:37.255557Z",
     "shell.execute_reply": "2021-02-06T20:40:37.254963Z"
    },
    "papermill": {
     "duration": 0.075894,
     "end_time": "2021-02-06T20:40:37.255707",
     "exception": false,
     "start_time": "2021-02-06T20:40:37.179813",
     "status": "completed"
    },
    "tags": []
   },
   "outputs": [
    {
     "data": {
      "text/html": [
       "<div>\n",
       "<style scoped>\n",
       "    .dataframe tbody tr th:only-of-type {\n",
       "        vertical-align: middle;\n",
       "    }\n",
       "\n",
       "    .dataframe tbody tr th {\n",
       "        vertical-align: top;\n",
       "    }\n",
       "\n",
       "    .dataframe thead th {\n",
       "        text-align: right;\n",
       "    }\n",
       "</style>\n",
       "<table border=\"1\" class=\"dataframe\">\n",
       "  <thead>\n",
       "    <tr style=\"text-align: right;\">\n",
       "      <th></th>\n",
       "      <th>Name</th>\n",
       "      <th>Author</th>\n",
       "      <th>User Rating</th>\n",
       "      <th>Reviews</th>\n",
       "      <th>Price</th>\n",
       "      <th>Year</th>\n",
       "      <th>Genre</th>\n",
       "    </tr>\n",
       "  </thead>\n",
       "  <tbody>\n",
       "    <tr>\n",
       "      <th>0</th>\n",
       "      <td>10-Day Green Smoothie Cleanse</td>\n",
       "      <td>JJ Smith</td>\n",
       "      <td>4.7</td>\n",
       "      <td>17350</td>\n",
       "      <td>8</td>\n",
       "      <td>2016</td>\n",
       "      <td>Non Fiction</td>\n",
       "    </tr>\n",
       "    <tr>\n",
       "      <th>1</th>\n",
       "      <td>11/22/63: A Novel</td>\n",
       "      <td>Stephen King</td>\n",
       "      <td>4.6</td>\n",
       "      <td>2052</td>\n",
       "      <td>22</td>\n",
       "      <td>2011</td>\n",
       "      <td>Fiction</td>\n",
       "    </tr>\n",
       "    <tr>\n",
       "      <th>2</th>\n",
       "      <td>12 Rules for Life: An Antidote to Chaos</td>\n",
       "      <td>Jordan B. Peterson</td>\n",
       "      <td>4.7</td>\n",
       "      <td>18979</td>\n",
       "      <td>15</td>\n",
       "      <td>2018</td>\n",
       "      <td>Non Fiction</td>\n",
       "    </tr>\n",
       "    <tr>\n",
       "      <th>3</th>\n",
       "      <td>1984 (Signet Classics)</td>\n",
       "      <td>George Orwell</td>\n",
       "      <td>4.7</td>\n",
       "      <td>21424</td>\n",
       "      <td>6</td>\n",
       "      <td>2017</td>\n",
       "      <td>Fiction</td>\n",
       "    </tr>\n",
       "    <tr>\n",
       "      <th>4</th>\n",
       "      <td>5,000 Awesome Facts (About Everything!) (Natio...</td>\n",
       "      <td>National Geographic Kids</td>\n",
       "      <td>4.8</td>\n",
       "      <td>7665</td>\n",
       "      <td>12</td>\n",
       "      <td>2019</td>\n",
       "      <td>Non Fiction</td>\n",
       "    </tr>\n",
       "  </tbody>\n",
       "</table>\n",
       "</div>"
      ],
      "text/plain": [
       "                                                Name  \\\n",
       "0                      10-Day Green Smoothie Cleanse   \n",
       "1                                  11/22/63: A Novel   \n",
       "2            12 Rules for Life: An Antidote to Chaos   \n",
       "3                             1984 (Signet Classics)   \n",
       "4  5,000 Awesome Facts (About Everything!) (Natio...   \n",
       "\n",
       "                     Author  User Rating  Reviews  Price  Year        Genre  \n",
       "0                  JJ Smith          4.7    17350      8  2016  Non Fiction  \n",
       "1              Stephen King          4.6     2052     22  2011      Fiction  \n",
       "2        Jordan B. Peterson          4.7    18979     15  2018  Non Fiction  \n",
       "3             George Orwell          4.7    21424      6  2017      Fiction  \n",
       "4  National Geographic Kids          4.8     7665     12  2019  Non Fiction  "
      ]
     },
     "execution_count": 2,
     "metadata": {},
     "output_type": "execute_result"
    }
   ],
   "source": [
    "dataset = pd.read_csv(\"bestsellers with categories.csv\")\n",
    "dataset.head()"
   ]
  },
  {
   "cell_type": "code",
   "execution_count": 3,
   "metadata": {
    "execution": {
     "iopub.execute_input": "2021-02-06T20:40:37.298404Z",
     "iopub.status.busy": "2021-02-06T20:40:37.297682Z",
     "iopub.status.idle": "2021-02-06T20:40:37.301303Z",
     "shell.execute_reply": "2021-02-06T20:40:37.300681Z"
    },
    "papermill": {
     "duration": 0.027982,
     "end_time": "2021-02-06T20:40:37.301451",
     "exception": false,
     "start_time": "2021-02-06T20:40:37.273469",
     "status": "completed"
    },
    "tags": []
   },
   "outputs": [],
   "source": [
    "dataset_authors = dataset[\"Author\"]\n",
    "dataset_users_ratings = dataset[\"User Rating\"]\n",
    "dataset_reviews = dataset[\"Reviews\"]\n",
    "dataset_prices = dataset[\"Price\"]\n",
    "dataset_years = dataset[\"Year\"]\n",
    "dataset_genres = dataset[\"Genre\"]"
   ]
  },
  {
   "cell_type": "code",
   "execution_count": 4,
   "metadata": {
    "execution": {
     "iopub.execute_input": "2021-02-06T20:40:37.345190Z",
     "iopub.status.busy": "2021-02-06T20:40:37.344179Z",
     "iopub.status.idle": "2021-02-06T20:40:37.348718Z",
     "shell.execute_reply": "2021-02-06T20:40:37.348111Z"
    },
    "papermill": {
     "duration": 0.029588,
     "end_time": "2021-02-06T20:40:37.348888",
     "exception": false,
     "start_time": "2021-02-06T20:40:37.319300",
     "status": "completed"
    },
    "tags": []
   },
   "outputs": [
    {
     "data": {
      "text/plain": [
       "(550, 7)"
      ]
     },
     "execution_count": 4,
     "metadata": {},
     "output_type": "execute_result"
    }
   ],
   "source": [
    "dataset.shape"
   ]
  },
  {
   "cell_type": "markdown",
   "metadata": {
    "papermill": {
     "duration": 0.017608,
     "end_time": "2021-02-06T20:40:37.384539",
     "exception": false,
     "start_time": "2021-02-06T20:40:37.366931",
     "status": "completed"
    },
    "tags": []
   },
   "source": [
    "# I. Univariate Analysis\n",
    "\n",
    "## 1. Users Ratings | Reviews"
   ]
  },
  {
   "cell_type": "code",
   "execution_count": 5,
   "metadata": {
    "execution": {
     "iopub.execute_input": "2021-02-06T20:40:37.450505Z",
     "iopub.status.busy": "2021-02-06T20:40:37.444749Z",
     "iopub.status.idle": "2021-02-06T20:40:37.918903Z",
     "shell.execute_reply": "2021-02-06T20:40:37.918279Z"
    },
    "papermill": {
     "duration": 0.516404,
     "end_time": "2021-02-06T20:40:37.919044",
     "exception": false,
     "start_time": "2021-02-06T20:40:37.402640",
     "status": "completed"
    },
    "scrolled": false,
    "tags": []
   },
   "outputs": [
    {
     "data": {
      "image/png": "[encoded data removed]",
      "text/plain": [
       "<Figure size 864x288 with 2 Axes>"
      ]
     },
     "metadata": {
      "needs_background": "light"
     },
     "output_type": "display_data"
    }
   ],
   "source": [
    "fig, (ax1, ax2) = plt.subplots(1, 2, figsize=(12, 4))\n",
    "\n",
    "ax1.bar(dataset_users_ratings.value_counts().keys(), dataset_users_ratings.value_counts().values, width=0.05)\n",
    "ax1.title.set_text(\"Users Ratings\")\n",
    "ax1.set_xlabel(\"ratings\")\n",
    "ax1.set_ylabel(\"nomber of books\")\n",
    "\n",
    "ax2.scatter(dataset_reviews.keys(), dataset_reviews.values, s=10)\n",
    "ax2.title.set_text(\"Reviews\")\n",
    "ax2.set_xlabel(\"nomber of books\")\n",
    "ax2.set_ylabel(\"nomber of reviews\")\n",
    "\n",
    "fig.show()"
   ]
  },
  {
   "cell_type": "code",
   "execution_count": 6,
   "metadata": {
    "execution": {
     "iopub.execute_input": "2021-02-06T20:40:37.964085Z",
     "iopub.status.busy": "2021-02-06T20:40:37.963438Z",
     "iopub.status.idle": "2021-02-06T20:40:37.968389Z",
     "shell.execute_reply": "2021-02-06T20:40:37.967813Z"
    },
    "papermill": {
     "duration": 0.029106,
     "end_time": "2021-02-06T20:40:37.968528",
     "exception": false,
     "start_time": "2021-02-06T20:40:37.939422",
     "status": "completed"
    },
    "tags": []
   },
   "outputs": [
    {
     "name": "stdout",
     "output_type": "stream",
     "text": [
      "Minimum rating: 3.3\n",
      "Maximum rating: 4.9\n"
     ]
    }
   ],
   "source": [
    "print(\"Minimum rating: \" + str(np.amin(dataset_users_ratings)))\n",
    "print(\"Maximum rating: \" + str(np.amax(dataset_users_ratings)))"
   ]
  },
  {
   "cell_type": "code",
   "execution_count": 7,
   "metadata": {
    "execution": {
     "iopub.execute_input": "2021-02-06T20:40:38.015206Z",
     "iopub.status.busy": "2021-02-06T20:40:38.014533Z",
     "iopub.status.idle": "2021-02-06T20:40:38.036716Z",
     "shell.execute_reply": "2021-02-06T20:40:38.036111Z"
    },
    "papermill": {
     "duration": 0.047557,
     "end_time": "2021-02-06T20:40:38.036900",
     "exception": false,
     "start_time": "2021-02-06T20:40:37.989343",
     "status": "completed"
    },
    "tags": []
   },
   "outputs": [
    {
     "name": "stdout",
     "output_type": "stream",
     "text": [
      "Minimum review: 37\n",
      "Maximum review: 87841\n",
      "Number of review's peak: 16\n"
     ]
    }
   ],
   "source": [
    "print(\"Minimum review: \" + str(np.amin(dataset_reviews)))\n",
    "print(\"Maximum review: \" + str(np.amax(dataset_reviews)))\n",
    "print(\"Number of review's peak: \" + str(dataset_reviews.loc[dataset_reviews > 40000].shape[0]))"
   ]
  },
  {
   "cell_type": "markdown",
   "metadata": {
    "papermill": {
     "duration": 0.02013,
     "end_time": "2021-02-06T20:40:38.117630",
     "exception": false,
     "start_time": "2021-02-06T20:40:38.097500",
     "status": "completed"
    },
    "tags": []
   },
   "source": [
    "## 2. Prices | Years"
   ]
  },
  {
   "cell_type": "code",
   "execution_count": 8,
   "metadata": {
    "execution": {
     "iopub.execute_input": "2021-02-06T20:40:38.168102Z",
     "iopub.status.busy": "2021-02-06T20:40:38.167102Z",
     "iopub.status.idle": "2021-02-06T20:40:38.468096Z",
     "shell.execute_reply": "2021-02-06T20:40:38.468724Z"
    },
    "papermill": {
     "duration": 0.330492,
     "end_time": "2021-02-06T20:40:38.468917",
     "exception": false,
     "start_time": "2021-02-06T20:40:38.138425",
     "status": "completed"
    },
    "tags": []
   },
   "outputs": [
    {
     "data": {
      "image/png": "[encoded data removed]",
      "text/plain": [
       "<Figure size 864x288 with 2 Axes>"
      ]
     },
     "metadata": {
      "needs_background": "light"
     },
     "output_type": "display_data"
    }
   ],
   "source": [
    "fig, (ax1, ax2) = plt.subplots(1, 2, figsize=(12, 4))\n",
    "\n",
    "ax1.scatter(dataset_prices.keys(), dataset_prices.values, s=10)\n",
    "ax1.title.set_text(\"Prices\")\n",
    "ax1.set_xlabel(\"nomber of books\")\n",
    "ax1.set_ylabel(\"prices\")\n",
    "\n",
    "ax2.pie(dataset_years.value_counts().keys(), labels=dataset_years.value_counts().values)\n",
    "ax2.title.set_text(\"Years\")\n",
    "\n",
    "fig.show()"
   ]
  },
  {
   "cell_type": "code",
   "execution_count": 9,
   "metadata": {
    "execution": {
     "iopub.execute_input": "2021-02-06T20:40:38.515875Z",
     "iopub.status.busy": "2021-02-06T20:40:38.514925Z",
     "iopub.status.idle": "2021-02-06T20:40:38.524273Z",
     "shell.execute_reply": "2021-02-06T20:40:38.523393Z"
    },
    "papermill": {
     "duration": 0.033979,
     "end_time": "2021-02-06T20:40:38.524471",
     "exception": false,
     "start_time": "2021-02-06T20:40:38.490492",
     "status": "completed"
    },
    "tags": []
   },
   "outputs": [
    {
     "name": "stdout",
     "output_type": "stream",
     "text": [
      "Minimum price: 0\n",
      "Maximum price: 105\n",
      "Number of price's peak: 17\n"
     ]
    }
   ],
   "source": [
    "print(\"Minimum price: \" + str(np.amin(dataset_prices)))\n",
    "print(\"Maximum price: \" + str(np.amax(dataset_prices)))\n",
    "print(\"Number of price's peak: \" + str(dataset_prices.loc[dataset_prices > 40].shape[0]))"
   ]
  },
  {
   "cell_type": "markdown",
   "metadata": {
    "papermill": {
     "duration": 0.021953,
     "end_time": "2021-02-06T20:40:38.613135",
     "exception": false,
     "start_time": "2021-02-06T20:40:38.591182",
     "status": "completed"
    },
    "tags": []
   },
   "source": [
    "## 3. Authors | Genres"
   ]
  },
  {
   "cell_type": "code",
   "execution_count": 10,
   "metadata": {
    "execution": {
     "iopub.execute_input": "2021-02-06T20:40:38.699746Z",
     "iopub.status.busy": "2021-02-06T20:40:38.690991Z",
     "iopub.status.idle": "2021-02-06T20:40:38.976239Z",
     "shell.execute_reply": "2021-02-06T20:40:38.975576Z"
    },
    "papermill": {
     "duration": 0.341393,
     "end_time": "2021-02-06T20:40:38.976422",
     "exception": false,
     "start_time": "2021-02-06T20:40:38.635029",
     "status": "completed"
    },
    "scrolled": false,
    "tags": []
   },
   "outputs": [
    {
     "data": {
      "image/png": "[encoded data removed]",
      "text/plain": [
       "<Figure size 864x288 with 2 Axes>"
      ]
     },
     "metadata": {
      "needs_background": "light"
     },
     "output_type": "display_data"
    }
   ],
   "source": [
    "fig, (ax1, ax2) = plt.subplots(1, 2, figsize=(12, 4))\n",
    "\n",
    "ax1.barh(dataset_authors.value_counts().head(10).keys(), dataset_authors.value_counts().head(10).values)\n",
    "ax1.title.set_text(\"Authors\")\n",
    "ax1.set_xlabel(\"number of books\")\n",
    "\n",
    "ax2.bar(dataset_genres.value_counts().keys(), dataset_genres.value_counts().values)\n",
    "ax2.title.set_text(\"Genres\")\n",
    "ax2.set_xlabel(\"genres\")\n",
    "ax2.set_ylabel(\"nomber of books\")\n",
    "\n",
    "fig.show()"
   ]
  },
  {
   "cell_type": "markdown",
   "metadata": {
    "papermill": {
     "duration": 0.023487,
     "end_time": "2021-02-06T20:40:39.075141",
     "exception": false,
     "start_time": "2021-02-06T20:40:39.051654",
     "status": "completed"
    },
    "tags": []
   },
   "source": [
    "# II. Bivariate Analysis\n",
    "\n",
    "## 1. Authors ∈ Prices | Genres ∈ Prices"
   ]
  },
  {
   "cell_type": "code",
   "execution_count": 11,
   "metadata": {
    "execution": {
     "iopub.execute_input": "2021-02-06T20:40:39.143980Z",
     "iopub.status.busy": "2021-02-06T20:40:39.142270Z",
     "iopub.status.idle": "2021-02-06T20:40:39.674579Z",
     "shell.execute_reply": "2021-02-06T20:40:39.674029Z"
    },
    "papermill": {
     "duration": 0.575573,
     "end_time": "2021-02-06T20:40:39.674749",
     "exception": false,
     "start_time": "2021-02-06T20:40:39.099176",
     "status": "completed"
    },
    "tags": []
   },
   "outputs": [
    {
     "data": {
      "image/png": "[encoded data removed]",
      "text/plain": [
       "<Figure size 864x288 with 2 Axes>"
      ]
     },
     "metadata": {
      "needs_background": "light"
     },
     "output_type": "display_data"
    }
   ],
   "source": [
    "fig, (ax1, ax2) = plt.subplots(1, 2, figsize=(12, 4))\n",
    "\n",
    "dataset_authors_prices = dataset_authors.value_counts().keys().to_numpy().reshape(248, 1)\n",
    "\n",
    "def calculate_author_price(x):\n",
    "    return np.array([x[0], dataset.loc[dataset['Author'] == x[0]]['Price'].mean()])\n",
    "\n",
    "dataset_authors_prices = pd.DataFrame(np.apply_along_axis(calculate_author_price, arr=dataset_authors_prices, axis=1))\n",
    "dataset_authors_prices[1] = dataset_authors_prices[1].astype(np.float)\n",
    "dataset_authors_prices = dataset_authors_prices.sort_values(by=[1], ascending=False)\n",
    "\n",
    "ax1.barh(dataset_authors_prices.head(10)[0], dataset_authors_prices.head(10)[1])\n",
    "ax1.title.set_text(\"Authors ∈ Prices\")\n",
    "ax1.set_xlabel(\"prices\")\n",
    "ax1.set_ylabel(\"authors\")\n",
    "\n",
    "dataset_genre_prices = dataset_genres.value_counts().keys().to_numpy().reshape(2, 1)\n",
    "\n",
    "def calculate_genre_price(x):\n",
    "    return np.array([x[0], dataset.loc[dataset['Genre'] == x[0]]['Price'].mean()])\n",
    "\n",
    "dataset_genre_prices = pd.DataFrame(np.apply_along_axis(calculate_genre_price, arr=dataset_genre_prices, axis=1))\n",
    "dataset_genre_prices[1] = dataset_genre_prices[1].astype(np.float)\n",
    "dataset_genre_prices = dataset_genre_prices.sort_values(by=[1], ascending=False)\n",
    "\n",
    "ax2.bar(dataset_genre_prices[0], dataset_genre_prices[1])\n",
    "ax2.title.set_text(\"Genres ∈ Prices\")\n",
    "ax2.set_xlabel(\"genres\")\n",
    "ax2.set_ylabel(\"prices\")\n",
    "\n",
    "fig.show()"
   ]
  },
  {
   "cell_type": "code",
   "execution_count": 12,
   "metadata": {
    "execution": {
     "iopub.execute_input": "2021-02-06T20:40:39.733904Z",
     "iopub.status.busy": "2021-02-06T20:40:39.732542Z",
     "iopub.status.idle": "2021-02-06T20:40:39.736448Z",
     "shell.execute_reply": "2021-02-06T20:40:39.736977Z"
    },
    "papermill": {
     "duration": 0.037723,
     "end_time": "2021-02-06T20:40:39.737154",
     "exception": false,
     "start_time": "2021-02-06T20:40:39.699431",
     "status": "completed"
    },
    "tags": []
   },
   "outputs": [
    {
     "data": {
      "text/html": [
       "<div>\n",
       "<style scoped>\n",
       "    .dataframe tbody tr th:only-of-type {\n",
       "        vertical-align: middle;\n",
       "    }\n",
       "\n",
       "    .dataframe tbody tr th {\n",
       "        vertical-align: top;\n",
       "    }\n",
       "\n",
       "    .dataframe thead th {\n",
       "        text-align: right;\n",
       "    }\n",
       "</style>\n",
       "<table border=\"1\" class=\"dataframe\">\n",
       "  <thead>\n",
       "    <tr style=\"text-align: right;\">\n",
       "      <th></th>\n",
       "      <th>0</th>\n",
       "      <th>1</th>\n",
       "    </tr>\n",
       "  </thead>\n",
       "  <tbody>\n",
       "    <tr>\n",
       "      <th>61</th>\n",
       "      <td>American Ps</td>\n",
       "      <td>105.0</td>\n",
       "    </tr>\n",
       "  </tbody>\n",
       "</table>\n",
       "</div>"
      ],
      "text/plain": [
       "              0      1\n",
       "61  American Ps  105.0"
      ]
     },
     "execution_count": 12,
     "metadata": {},
     "output_type": "execute_result"
    }
   ],
   "source": [
    "dataset_authors_prices.head(1)"
   ]
  },
  {
   "cell_type": "markdown",
   "metadata": {
    "papermill": {
     "duration": 0.024502,
     "end_time": "2021-02-06T20:40:39.836493",
     "exception": false,
     "start_time": "2021-02-06T20:40:39.811991",
     "status": "completed"
    },
    "tags": []
   },
   "source": [
    "## 2. Users Ratings ∈ Prices | Reviews ∈ Prices | Years ∈ Prices"
   ]
  },
  {
   "cell_type": "code",
   "execution_count": 13,
   "metadata": {
    "execution": {
     "iopub.execute_input": "2021-02-06T20:40:39.913000Z",
     "iopub.status.busy": "2021-02-06T20:40:39.899943Z",
     "iopub.status.idle": "2021-02-06T20:40:40.679449Z",
     "shell.execute_reply": "2021-02-06T20:40:40.678688Z"
    },
    "papermill": {
     "duration": 0.818465,
     "end_time": "2021-02-06T20:40:40.679603",
     "exception": false,
     "start_time": "2021-02-06T20:40:39.861138",
     "status": "completed"
    },
    "tags": []
   },
   "outputs": [
    {
     "data": {
      "image/png": "[encoded data removed]",
      "text/plain": [
       "<Figure size 1080x288 with 3 Axes>"
      ]
     },
     "metadata": {
      "needs_background": "light"
     },
     "output_type": "display_data"
    }
   ],
   "source": [
    "fig, (ax1, ax2, ax3) = plt.subplots(1, 3, figsize=(15, 4))\n",
    "\n",
    "dataset_users_ratings_prices = dataset_users_ratings.value_counts().keys().to_numpy().reshape(14, 1)\n",
    "\n",
    "def calculate_user_rating_price(x):\n",
    "    return np.array([x[0], dataset.loc[dataset['User Rating'] == x[0]]['Price'].mean()])\n",
    "\n",
    "dataset_users_ratings_prices = pd.DataFrame(np.apply_along_axis(calculate_user_rating_price, arr=dataset_users_ratings_prices, axis=1))\n",
    "dataset_users_ratings_prices[1] = dataset_users_ratings_prices[1].astype(np.float)\n",
    "dataset_users_ratings_prices = dataset_users_ratings_prices.sort_values(by=[1], ascending=False)\n",
    "\n",
    "ax1.bar(dataset_users_ratings_prices[0], dataset_users_ratings_prices[1], width=0.05)\n",
    "ax1.title.set_text(\"Users Ratings ∈ Prices\")\n",
    "ax1.set_xlabel(\"users ratings\")\n",
    "ax1.set_ylabel(\"prices\")\n",
    "\n",
    "dataset_reviews_prices = dataset_reviews.value_counts().keys().to_numpy().reshape(346, 1)\n",
    "\n",
    "def calculate_reviews_price(x):\n",
    "    return np.array([x[0], dataset.loc[dataset['Reviews'] == x[0]]['Price'].mean()])\n",
    "\n",
    "dataset_reviews_prices = pd.DataFrame(np.apply_along_axis(calculate_reviews_price, arr=dataset_reviews_prices, axis=1))\n",
    "dataset_reviews_prices[1] = dataset_reviews_prices[1].astype(np.float)\n",
    "dataset_reviews_prices = dataset_reviews_prices.sort_values(by=[0], ascending=False)\n",
    "\n",
    "ax2.scatter(dataset_reviews_prices[1], dataset_reviews_prices[0], s=10)\n",
    "ax2.title.set_text(\"Reviews ∈ Prices\")\n",
    "ax2.set_xlabel(\"prices\")\n",
    "ax2.set_ylabel(\"reviews\")\n",
    "\n",
    "dataset_years_prices = dataset_years.value_counts().keys().to_numpy().reshape(11, 1)\n",
    "\n",
    "def calculate_year_price(x):\n",
    "    return np.array([x[0], dataset.loc[dataset['Year'] == x[0]]['Price'].mean()])\n",
    "\n",
    "dataset_years_prices = pd.DataFrame(np.apply_along_axis(calculate_year_price, arr=dataset_years_prices, axis=1))\n",
    "dataset_years_prices[1] = dataset_years_prices[1].astype(np.float)\n",
    "dataset_years_prices = dataset_years_prices.sort_values(by=[0], ascending=False)\n",
    "\n",
    "ax3.scatter(dataset_years_prices[0], dataset_years_prices[1], s=20)\n",
    "ax3.title.set_text(\"Years ∈ Prices\")\n",
    "ax3.set_xlabel(\"years\")\n",
    "ax3.set_ylabel(\"prices\")\n",
    "\n",
    "fig.show()"
   ]
  },
  {
   "cell_type": "code",
   "execution_count": 14,
   "metadata": {
    "execution": {
     "iopub.execute_input": "2021-02-06T20:40:40.743527Z",
     "iopub.status.busy": "2021-02-06T20:40:40.742753Z",
     "iopub.status.idle": "2021-02-06T20:40:40.747413Z",
     "shell.execute_reply": "2021-02-06T20:40:40.746790Z"
    },
    "papermill": {
     "duration": 0.041561,
     "end_time": "2021-02-06T20:40:40.747556",
     "exception": false,
     "start_time": "2021-02-06T20:40:40.705995",
     "status": "completed"
    },
    "tags": []
   },
   "outputs": [
    {
     "data": {
      "text/html": [
       "<div>\n",
       "<style scoped>\n",
       "    .dataframe tbody tr th:only-of-type {\n",
       "        vertical-align: middle;\n",
       "    }\n",
       "\n",
       "    .dataframe tbody tr th {\n",
       "        vertical-align: top;\n",
       "    }\n",
       "\n",
       "    .dataframe thead th {\n",
       "        text-align: right;\n",
       "    }\n",
       "</style>\n",
       "<table border=\"1\" class=\"dataframe\">\n",
       "  <thead>\n",
       "    <tr style=\"text-align: right;\">\n",
       "      <th></th>\n",
       "      <th>0</th>\n",
       "      <th>1</th>\n",
       "    </tr>\n",
       "  </thead>\n",
       "  <tbody>\n",
       "    <tr>\n",
       "      <th>3</th>\n",
       "      <td>4.5</td>\n",
       "      <td>20.933333</td>\n",
       "    </tr>\n",
       "    <tr>\n",
       "      <th>13</th>\n",
       "      <td>3.6</td>\n",
       "      <td>19.000000</td>\n",
       "    </tr>\n",
       "    <tr>\n",
       "      <th>10</th>\n",
       "      <td>3.9</td>\n",
       "      <td>17.666667</td>\n",
       "    </tr>\n",
       "  </tbody>\n",
       "</table>\n",
       "</div>"
      ],
      "text/plain": [
       "      0          1\n",
       "3   4.5  20.933333\n",
       "13  3.6  19.000000\n",
       "10  3.9  17.666667"
      ]
     },
     "execution_count": 14,
     "metadata": {},
     "output_type": "execute_result"
    }
   ],
   "source": [
    "dataset_users_ratings_prices.loc[dataset_users_ratings_prices[1] > 17.5]"
   ]
  },
  {
   "cell_type": "code",
   "execution_count": 15,
   "metadata": {
    "execution": {
     "iopub.execute_input": "2021-02-06T20:40:40.813449Z",
     "iopub.status.busy": "2021-02-06T20:40:40.812454Z",
     "iopub.status.idle": "2021-02-06T20:40:40.816682Z",
     "shell.execute_reply": "2021-02-06T20:40:40.816188Z"
    },
    "papermill": {
     "duration": 0.041997,
     "end_time": "2021-02-06T20:40:40.816824",
     "exception": false,
     "start_time": "2021-02-06T20:40:40.774827",
     "status": "completed"
    },
    "tags": []
   },
   "outputs": [
    {
     "data": {
      "text/html": [
       "<div>\n",
       "<style scoped>\n",
       "    .dataframe tbody tr th:only-of-type {\n",
       "        vertical-align: middle;\n",
       "    }\n",
       "\n",
       "    .dataframe tbody tr th {\n",
       "        vertical-align: top;\n",
       "    }\n",
       "\n",
       "    .dataframe thead th {\n",
       "        text-align: right;\n",
       "    }\n",
       "</style>\n",
       "<table border=\"1\" class=\"dataframe\">\n",
       "  <thead>\n",
       "    <tr style=\"text-align: right;\">\n",
       "      <th></th>\n",
       "      <th>0</th>\n",
       "      <th>1</th>\n",
       "    </tr>\n",
       "  </thead>\n",
       "  <tbody>\n",
       "    <tr>\n",
       "      <th>251</th>\n",
       "      <td>13471.0</td>\n",
       "      <td>52.0</td>\n",
       "    </tr>\n",
       "    <tr>\n",
       "      <th>0</th>\n",
       "      <td>8580.0</td>\n",
       "      <td>46.0</td>\n",
       "    </tr>\n",
       "    <tr>\n",
       "      <th>77</th>\n",
       "      <td>6679.0</td>\n",
       "      <td>105.0</td>\n",
       "    </tr>\n",
       "    <tr>\n",
       "      <th>151</th>\n",
       "      <td>5867.0</td>\n",
       "      <td>54.0</td>\n",
       "    </tr>\n",
       "    <tr>\n",
       "      <th>118</th>\n",
       "      <td>3801.0</td>\n",
       "      <td>82.0</td>\n",
       "    </tr>\n",
       "    <tr>\n",
       "      <th>174</th>\n",
       "      <td>858.0</td>\n",
       "      <td>53.0</td>\n",
       "    </tr>\n",
       "  </tbody>\n",
       "</table>\n",
       "</div>"
      ],
      "text/plain": [
       "           0      1\n",
       "251  13471.0   52.0\n",
       "0     8580.0   46.0\n",
       "77    6679.0  105.0\n",
       "151   5867.0   54.0\n",
       "118   3801.0   82.0\n",
       "174    858.0   53.0"
      ]
     },
     "execution_count": 15,
     "metadata": {},
     "output_type": "execute_result"
    }
   ],
   "source": [
    "dataset_reviews_prices.loc[dataset_reviews_prices[1] > 45]"
   ]
  },
  {
   "cell_type": "markdown",
   "metadata": {
    "papermill": {
     "duration": 0.026887,
     "end_time": "2021-02-06T20:40:40.925014",
     "exception": false,
     "start_time": "2021-02-06T20:40:40.898127",
     "status": "completed"
    },
    "tags": []
   },
   "source": [
    "## 3. Users Ratings ∈ Reviews | Years ∈ Reviews"
   ]
  },
  {
   "cell_type": "code",
   "execution_count": 16,
   "metadata": {
    "execution": {
     "iopub.execute_input": "2021-02-06T20:40:41.010303Z",
     "iopub.status.busy": "2021-02-06T20:40:41.009553Z",
     "iopub.status.idle": "2021-02-06T20:40:41.339173Z",
     "shell.execute_reply": "2021-02-06T20:40:41.338512Z"
    },
    "papermill": {
     "duration": 0.387016,
     "end_time": "2021-02-06T20:40:41.339331",
     "exception": false,
     "start_time": "2021-02-06T20:40:40.952315",
     "status": "completed"
    },
    "tags": []
   },
   "outputs": [
    {
     "data": {
      "image/png": "[encoded data removed]",
      "text/plain": [
       "<Figure size 864x288 with 2 Axes>"
      ]
     },
     "metadata": {
      "needs_background": "light"
     },
     "output_type": "display_data"
    }
   ],
   "source": [
    "fig, (ax1, ax2) = plt.subplots(1, 2, figsize=(12, 4))\n",
    "\n",
    "dataset_users_ratings_reviews = dataset_users_ratings.value_counts().keys().to_numpy().reshape(14, 1)\n",
    "\n",
    "def calculate_user_rating_reviews(x):\n",
    "    return np.array([x[0], dataset.loc[dataset['User Rating'] == x[0]]['Reviews'].mean()])\n",
    "\n",
    "dataset_users_ratings_reviews = pd.DataFrame(np.apply_along_axis(calculate_user_rating_reviews, arr=dataset_users_ratings_reviews, axis=1))\n",
    "dataset_users_ratings_reviews[1] = dataset_users_ratings_reviews[1].astype(np.float)\n",
    "dataset_users_ratings_reviews = dataset_users_ratings_reviews.sort_values(by=[1], ascending=False)\n",
    "\n",
    "ax1.bar(dataset_users_ratings_reviews[0], dataset_users_ratings_reviews[1], width=0.05)\n",
    "ax1.title.set_text(\"Users Ratings ∈ Reviews\")\n",
    "ax1.set_xlabel(\"users ratings\")\n",
    "ax1.set_ylabel(\"reviews\")\n",
    "\n",
    "dataset_years_reviews = dataset_years.value_counts().keys().to_numpy().reshape(11, 1)\n",
    "\n",
    "def calculate_years_reviews(x):\n",
    "    return np.array([x[0], dataset.loc[dataset['Year'] == x[0]]['Reviews'].mean()])\n",
    "\n",
    "dataset_years_reviews = pd.DataFrame(np.apply_along_axis(calculate_years_reviews, arr=dataset_years_reviews, axis=1))\n",
    "dataset_years_reviews[1] = dataset_years_reviews[1].astype(np.float)\n",
    "dataset_years_reviews = dataset_years_reviews.sort_values(by=[0], ascending=False)\n",
    "\n",
    "ax2.scatter(dataset_years_reviews[0], dataset_years_reviews[1], s=20)\n",
    "ax2.title.set_text(\"Years ∈ Reviews\")\n",
    "ax2.set_xlabel(\"years\")\n",
    "ax2.set_ylabel(\"reviews\")\n",
    "\n",
    "fig.show()"
   ]
  },
  {
   "cell_type": "code",
   "execution_count": 17,
   "metadata": {
    "execution": {
     "iopub.execute_input": "2021-02-06T20:40:41.406126Z",
     "iopub.status.busy": "2021-02-06T20:40:41.405443Z",
     "iopub.status.idle": "2021-02-06T20:40:41.409257Z",
     "shell.execute_reply": "2021-02-06T20:40:41.409794Z"
    },
    "papermill": {
     "duration": 0.04181,
     "end_time": "2021-02-06T20:40:41.409982",
     "exception": false,
     "start_time": "2021-02-06T20:40:41.368172",
     "status": "completed"
    },
    "tags": []
   },
   "outputs": [
    {
     "data": {
      "text/html": [
       "<div>\n",
       "<style scoped>\n",
       "    .dataframe tbody tr th:only-of-type {\n",
       "        vertical-align: middle;\n",
       "    }\n",
       "\n",
       "    .dataframe tbody tr th {\n",
       "        vertical-align: top;\n",
       "    }\n",
       "\n",
       "    .dataframe thead th {\n",
       "        text-align: right;\n",
       "    }\n",
       "</style>\n",
       "<table border=\"1\" class=\"dataframe\">\n",
       "  <thead>\n",
       "    <tr style=\"text-align: right;\">\n",
       "      <th></th>\n",
       "      <th>0</th>\n",
       "      <th>1</th>\n",
       "    </tr>\n",
       "  </thead>\n",
       "  <tbody>\n",
       "    <tr>\n",
       "      <th>11</th>\n",
       "      <td>3.8</td>\n",
       "      <td>47265.0</td>\n",
       "    </tr>\n",
       "  </tbody>\n",
       "</table>\n",
       "</div>"
      ],
      "text/plain": [
       "      0        1\n",
       "11  3.8  47265.0"
      ]
     },
     "execution_count": 17,
     "metadata": {},
     "output_type": "execute_result"
    }
   ],
   "source": [
    "dataset_users_ratings_reviews.head(1)"
   ]
  }
 ],
 "metadata": {
  "kernelspec": {
   "display_name": "Python 3",
   "language": "python",
   "name": "python3"
  },
  "language_info": {
   "codemirror_mode": {
    "name": "ipython",
    "version": 3
   },
   "file_extension": ".py",
   "mimetype": "text/x-python",
   "name": "python",
   "nbconvert_exporter": "python",
   "pygments_lexer": "ipython3",
   "version": "3.8.5"
  },
  "papermill": {
   "default_parameters": {},
   "duration": 12.587764,
   "end_time": "2021-02-06T20:40:42.263127",
   "environment_variables": {},
   "exception": null,
   "input_path": "__notebook__.ipynb",
   "output_path": "__notebook__.ipynb",
   "parameters": {},
   "start_time": "2021-02-06T20:40:29.675363",
   "version": "2.2.2"
  }
 },
 "nbformat": 4,
 "nbformat_minor": 4
}
